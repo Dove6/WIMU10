{
 "cells": [
  {
   "cell_type": "markdown",
   "metadata": {},
   "source": [
    "# Manual experiments with dynamics-related metrics"
   ]
  },
  {
   "cell_type": "markdown",
   "metadata": {},
   "source": [
    "> ⚠️ This notebook should be run only on [Google Colab](https://colab.research.google.com/github/Dove6/WIMU10/blob/feature/dynamics-metrics/notebooks/colab_dynamics_metrics.ipynb)"
   ]
  },
  {
   "cell_type": "code",
   "execution_count": null,
   "metadata": {
    "cellView": "form"
   },
   "outputs": [],
   "source": [
    "# @title Cloning the repository\n",
    "\n",
    "!git clone -b feature/dynamics-metrics https://github.com/Dove6/WIMU10.git\n",
    "!mv ./WIMU10/* ./\n",
    "!rm -rf ./WIMU10"
   ]
  },
  {
   "cell_type": "code",
   "execution_count": null,
   "metadata": {
    "cellView": "form"
   },
   "outputs": [],
   "source": [
    "# @title Installing required packages\n",
    "\n",
    "%pip install -r ./requirements-colab.txt"
   ]
  },
  {
   "cell_type": "code",
   "execution_count": 10,
   "metadata": {
    "cellView": "form"
   },
   "outputs": [],
   "source": [
    "# @title Importing tested methods\n",
    "\n",
    "from wimu10 import (  # noqa: E402\n",
    "    compute_dynamics_histogram,\n",
    "    compute_dynamics_levels_histogram,\n",
    "    compute_dynamics_variability,\n",
    "    compute_dynamics_levels_variability,\n",
    "    compute_dynamics_transition_matrix,\n",
    "    compute_dynamics_levels_transition_matrix,\n",
    ")"
   ]
  },
  {
   "cell_type": "code",
   "execution_count": null,
   "metadata": {
    "cellView": "form"
   },
   "outputs": [],
   "source": [
    "# @title Setting up a dataset\n",
    "\n",
    "from setup_dataset import download_muspy_midi  # noqa: E402\n",
    "\n",
    "dataset = 'musicnet'  # @param [\"musicnet\", \"maestro\", \"nesmdb\", \"emopia\", \"lakh\"]\n",
    "\n",
    "downloaded_dataset = download_muspy_midi(dataset)  # Performs required extraction and conversion\n",
    "\n",
    "print(f'The chosen dataset ({type(downloaded_dataset).__name__}) has {len(downloaded_dataset)} elements.')"
   ]
  },
  {
   "cell_type": "markdown",
   "metadata": {},
   "source": [
    "## Processing a file (of choice)"
   ]
  },
  {
   "cell_type": "code",
   "execution_count": null,
   "metadata": {
    "cellView": "form"
   },
   "outputs": [],
   "source": [
    "from os import listdir  # noqa: E402\n",
    "from pathlib import Path  # noqa: E402\n",
    "\n",
    "from google.colab import files  # noqa: E402\n",
    "import matplotlib.pyplot as plt  # noqa: E402\n",
    "import muspy as mp  # noqa: E402\n",
    "import numpy as np  # noqa: E402\n",
    "\n",
    "from setup_dataset import DATA_RAW_PATH  # noqa: E402\n",
    "\n",
    "# @markdown Choose a file from the dataset by putting its index here:\n",
    "\n",
    "file_index = 329  # @param {type:\"integer\"}\n",
    "\n",
    "# @markdown *The index should be the zero-based index of a file converted by MusPy when setting up the dataset.*\n",
    "\n",
    "# @markdown ---\n",
    "\n",
    "# @markdown Alternatively you can put a full (relative or absolute) path to a MIDI file to be processed here:\n",
    "\n",
    "full_file_path = ''  # @param [\"\", \"Upload your own MIDI file\"] {allow-input: true}\n",
    "\n",
    "# @markdown *Leave empty to use the file_index field. You can upload your own MIDI file by choosing \"Upload your own MIDI file\" from dropdown.*\n",
    "\n",
    "full_path_used = full_file_path != ''\n",
    "\n",
    "if full_path_used:\n",
    "    if full_file_path == 'Upload your own MIDI file':\n",
    "        uploaded_file = files.upload()\n",
    "        if list(uploaded_file.keys()):\n",
    "            full_file_path = list(uploaded_file.keys())[0]\n",
    "        else:\n",
    "            raise Exception('No file uploaded!')\n",
    "    path = Path(full_file_path)\n",
    "else:\n",
    "    extension = '.json'\n",
    "    first_dataset_entry = sorted(\n",
    "        filter(\n",
    "            lambda filename: filename.endswith(extension),\n",
    "            listdir(Path(f'{DATA_RAW_PATH}{dataset}/_converted/'))\n",
    "        )\n",
    "    )[0]\n",
    "    first_dataset_entry = first_dataset_entry[:-len(extension)]\n",
    "    padding_len = len(first_dataset_entry)\n",
    "    path = Path(f'{DATA_RAW_PATH}{dataset}/_converted/{str(file_index).zfill(padding_len)}{extension}')\n",
    "\n",
    "if not path.exists() or not path.is_file():\n",
    "    raise Exception(f'There is no file at path: {path}')\n",
    "\n",
    "if full_path_used:\n",
    "    music = mp.read_midi(path)\n",
    "else:\n",
    "    music = mp.load_json(path)\n",
    "\n",
    "print(f'Loaded file: {path} (source filename: {music.metadata.source_filename}, title: {music.metadata.title})')\n",
    "\n",
    "resolution = int(music.resolution / 4)  # MIDI resolution is in quarternotes, divided by 4 gives 1/16 note accuracy\n",
    "track_end = music.get_end_time()\n",
    "total_scores = []\n",
    "dynamics_levels = ['ppp', 'pp', 'p', 'mp', 'mf', 'f', 'ff', 'fff']  # Default dynamics levels used\n",
    "\n",
    "for track_idx, track in enumerate(music.tracks):\n",
    "    print()\n",
    "    print(f'=== PROCESSING TRACK #{track_idx} ===')\n",
    "    if len(track.notes) == 0:\n",
    "        total_scores.append(None)\n",
    "        print(f'  Skipping track {track_idx} (it has 0 notes).')\n",
    "        continue\n",
    "\n",
    "    # Calculate all metrics\n",
    "    bins = compute_dynamics_histogram(music, track_idx, resolution=resolution, track_end=track_end)\n",
    "    level_bins = compute_dynamics_levels_histogram(music, track_idx, resolution=resolution, track_end=track_end)\n",
    "    variability = compute_dynamics_variability(music, track_idx, resolution=resolution, track_end=track_end)\n",
    "    level_variability = compute_dynamics_levels_variability(music, track_idx, resolution=resolution, track_end=track_end)\n",
    "    transition_matrix = compute_dynamics_transition_matrix(music, track_idx, resolution=resolution, track_end=track_end)\n",
    "    level_transition_matrix = compute_dynamics_levels_transition_matrix(\n",
    "        music, track_idx, resolution=resolution, track_end=track_end\n",
    "    )\n",
    "\n",
    "    # Add metrics to a list (for saving it to a file later)\n",
    "    total_scores.append(\n",
    "        {\n",
    "            'histogram': bins,\n",
    "            'level_histogram': level_bins,\n",
    "            'variability': variability,\n",
    "            'level_variability': level_variability,\n",
    "            'transition_matrix': transition_matrix.tolist(),\n",
    "            'level_transition_matrix': level_transition_matrix.tolist(),\n",
    "        }\n",
    "    )\n",
    "\n",
    "    # Plotting histograms\n",
    "    _, (a1, a2) = plt.subplots(1, 2, figsize=(12, 4))\n",
    "    a1.bar(range(len(bins)), bins)\n",
    "    a1.set_title('Velocity values histogram')\n",
    "    a2.bar(range(len(level_bins)), level_bins)\n",
    "    a2.set_title('Dynamics levels histogram')\n",
    "    a2.set_xticks(range(len(dynamics_levels)), dynamics_levels)\n",
    "    plt.show()\n",
    "\n",
    "    # Plotting transition matrices\n",
    "    fig, (a1, a2) = plt.subplots(1, 2, figsize=(12, 6))\n",
    "    plt.colorbar(a1.imshow(transition_matrix), ax=a1, fraction=0.03)\n",
    "    a1.set_title('Velocity values transition matrix')\n",
    "    plt.colorbar(a2.imshow(level_transition_matrix), ax=a2, fraction=0.03)\n",
    "    a2.set_title('Dynamics levels transition matrix')\n",
    "    a2.set_xticks(range(len(dynamics_levels)), dynamics_levels)\n",
    "    a2.set_yticks(range(len(dynamics_levels)), dynamics_levels)\n",
    "    plt.show()\n",
    "\n",
    "    # Plotting transition matrices with zeroed diagonal\n",
    "    np.fill_diagonal(transition_matrix, 0)\n",
    "    np.fill_diagonal(level_transition_matrix, 0)\n",
    "    fig, (a1, a2) = plt.subplots(1, 2, figsize=(12, 6))\n",
    "    plt.colorbar(a1.imshow(transition_matrix), ax=a1, fraction=0.03)\n",
    "    a1.set_title('Velocity values transition matrix (with zeroed diagonal)')\n",
    "    plt.colorbar(a2.imshow(level_transition_matrix), ax=a2, fraction=0.03)\n",
    "    a2.set_title('Dynamics levels transition matrix (with zeroed diagonal)')\n",
    "    a2.set_xticks(range(len(dynamics_levels)), dynamics_levels)\n",
    "    a2.set_yticks(range(len(dynamics_levels)), dynamics_levels)\n",
    "    plt.show()\n",
    "\n",
    "    # Describing variability\n",
    "    print(f'Velocity values variability: {variability.ratio[0] * 100:.2f}% ({variability.changes_count[0]} / {variability.total_count})')\n",
    "    print('Dynamics levels variability:')\n",
    "    print(f'- lesser changes (1..2 levels): {level_variability.ratio[0] * 100:.2f}% ({level_variability.changes_count[0]} / {level_variability.total_count})')\n",
    "    print(f'- greater changes (3+ levels): {level_variability.ratio[1] * 100:.2f}% ({level_variability.changes_count[1]} / {level_variability.total_count})')\n"
   ]
  },
  {
   "cell_type": "code",
   "execution_count": 49,
   "metadata": {
    "cellView": "form"
   },
   "outputs": [],
   "source": [
    "# @title Saving results\n",
    "\n",
    "from datetime import datetime  # noqa: E402\n",
    "import json  # noqa: E402\n",
    "from os import makedirs  # noqa: E402\n",
    "\n",
    "results_dir = './results/'\n",
    "makedirs(results_dir, exist_ok=True)\n",
    "current_datetime = datetime.now().strftime('%Y%m%d-%H%M%S')\n",
    "results_filename = f'{results_dir}{path.stem}_{current_datetime}.json'\n",
    "with open(results_filename, 'w') as f:\n",
    "    json.dump(total_scores, f, indent=4)\n",
    "    print(f'Results saved to {results_filename}')"
   ]
  }
 ],
 "metadata": {
  "kernelspec": {
   "display_name": ".venv",
   "language": "python",
   "name": "python3"
  },
  "language_info": {
   "codemirror_mode": {
    "name": "ipython",
    "version": 3
   },
   "file_extension": ".py",
   "mimetype": "text/x-python",
   "name": "python",
   "nbconvert_exporter": "python",
   "pygments_lexer": "ipython3",
   "version": "3.11.7"
  }
 },
 "nbformat": 4,
 "nbformat_minor": 2
}
